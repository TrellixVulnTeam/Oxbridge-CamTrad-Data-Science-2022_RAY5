{
 "cells": [
  {
   "cell_type": "code",
   "execution_count": null,
   "metadata": {},
   "outputs": [],
   "source": [
    "import pandas as pd"
   ]
  },
  {
   "cell_type": "code",
   "execution_count": null,
   "metadata": {},
   "outputs": [],
   "source": [
    "df = pd.DataFrame({\n",
    "    \"Domain\": [\"Archaea\", \"Bacteria\", \"Eukarya\", \"\", \"\", \"\", \"\"],\n",
    "    \"Superkingdom\": [\"Prokaryota\", \"Eukaryota\", \"\", \"\", \"\", \"\", \"\"],\n",
    "    \"Kingdom\": [\"Bacteria\", \"Archaea\", \"Protozoa\", \"Chromista\", \"Plantae\", \"Fungi\", \"Animalia\"],\n",
    "    \"Phylum\": [\"Annelida\", \"Agmata\", \"Archaeocyatha\", \"Arthropoda\", \"and more...\", \"\", \"\"]\n",
    "})\n",
    "df"
   ]
  },
  {
   "cell_type": "code",
   "execution_count": null,
   "metadata": {},
   "outputs": [],
   "source": []
  },
  {
   "cell_type": "code",
   "execution_count": null,
   "metadata": {},
   "outputs": [],
   "source": [
    "examples = pd.read_csv('Untitled spreadsheet - Sheet2.csv')\n",
    "examples"
   ]
  },
  {
   "cell_type": "code",
   "execution_count": null,
   "metadata": {},
   "outputs": [],
   "source": [
    "df_examples = pd.DataFrame({\n",
    "    \"Rank\": [\"Domain\", \"Kingdom\", \"Phylum/Division\", \"Subphylum/Subdivision\", \"Class\", \"Subclass\", \"Superorder\", \"Order\", \"Suborder\", \"Family\", \"Subfamily\", \"Tribe\", \"Genus\", \"Species\"],\n",
    "    \"Fruit Fly\": [\"Eukarya\", \"Animalia\", \"Athropoda\", \"Hexapoda\", \"Insecta\", \"Pterygota\", \"Panorpida\", \"Diptera\", \"Brachycera\", \"Drosophilidae\", \"Drosophilinae\", \"—\", \"Drosophila\", \"D. melanogaster\"],\n",
    "    \"Human\": [\"Eukarya\", \"Animalia\", \"Chordata\", \"Vertebrata\", \"Mammalia\", \"Theria\", \"Euarchontoglires\", \"Primates\", \"Haplorrhini\", \"Hominidae\", \"Homininae\", \"Hominini\", \"Homo\", \"H. Sapiens\"]\n",
    "})\n",
    "df_examples"
   ]
  },
  {
   "cell_type": "code",
   "execution_count": null,
   "metadata": {},
   "outputs": [],
   "source": [
    "df_examples.loc[((df_examples[\"Rank\"] == \"Domain\") & (df_examples[\"Fruit Fly\"] == \"Eukarya\"))]"
   ]
  },
  {
   "cell_type": "code",
   "execution_count": null,
   "metadata": {},
   "outputs": [],
   "source": []
  }
 ],
 "metadata": {
  "interpreter": {
   "hash": "c06dbacbcce91af56434e9791d9aea8b224b5d7ca24fd3180a0f312b7b657d1c"
  },
  "kernelspec": {
   "display_name": "Python 3.9.7 ('venv': venv)",
   "language": "python",
   "name": "python3"
  },
  "language_info": {
   "codemirror_mode": {
    "name": "ipython",
    "version": 3
   },
   "file_extension": ".py",
   "mimetype": "text/x-python",
   "name": "python",
   "nbconvert_exporter": "python",
   "pygments_lexer": "ipython3",
   "version": "3.9.7"
  },
  "orig_nbformat": 4
 },
 "nbformat": 4,
 "nbformat_minor": 2
}
